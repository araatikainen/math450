{
 "cells": [
  {
   "cell_type": "markdown",
   "metadata": {},
   "source": [
    "# Exercise 4.\n",
    "Group name: TAU03E"
   ]
  },
  {
   "cell_type": "markdown",
   "metadata": {},
   "source": [
    "## Task 1\n",
    "### a)"
   ]
  },
  {
   "cell_type": "markdown",
   "metadata": {},
   "source": [
    "## Task 2\n",
    "### a)\n",
    "Let's show that $\\hat{\\mu}=\\mu$ as $E\\left(\\hat{\\mu}\\right)=E\\left(\\frac{1}{N}\\sum_{i=1}^Nx_i\\right)\\Rightarrow\\ \\hat{\\mu}=\\frac{1}{N}\\sum_{i=1}^NE\\left(x_i\\right)$. Now as $E\\left(x_i\\right)=\\mu$ therefore $\\hat{\\mu }=\\frac{1}{N}\\sum _{i=1}^N\\mu =\\frac{N\\mu }{N}=\\mu $."
   ]
  },
  {
   "cell_type": "markdown",
   "metadata": {},
   "source": [
    "### b)\n",
    "(We assume that that the equation is missing a minus sign by accident in the assignment).\n",
    "\n",
    "Let's show that $\\hat{\\sigma^2}\\neq\\sigma^2$ as $\\hat{\\sigma^2}=\\frac{1}{N}\\sum_{i=1}^N\\left(X_i-\\hat{\\mu}\\right)^2=\\frac{1}{N}\\sum_{i=1}^N\\left(X_i^2-2X_i\\hat{\\mu}+\\hat{\\mu^2}\\right)=\\frac{1}{N}\\left(\\sum_{i=1}^NX_i^2-2\\hat{\\mu}\\sum_{i=1}^NX_i+n\\hat{\\mu^2}\\right)$.\n",
    "\n",
    "Now it's known that $\\sum_{i=1}^NX_i=n\\cdot\\frac{1}{n}\\sum_{i=1}^NX_i=n\\hat{\\mu}$. Thus $\\hat{\\sigma^2}=\\frac{1}{N}\\left(\\sum_{i=1}^NX_i^2-2n\\hat{\\mu^2}+n\\hat{\\mu^2}\\right)=\\frac{1}{N}\\left(\\sum_{i=1}^NX_i^2-n\\hat{\\mu^2}\\right)$.\n",
    "\n",
    "Let's take the expectation of the estimator to show that it's biased:\n",
    "\n",
    " $E\\left(\\hat{\\sigma^2}\\right)=E\\left(\\frac{1}{N}\\left(\\sum_{i=1}^NX_i^2-n\\hat{\\mu^2}\\right)\\right)=\\frac{1}{N}\\left(\\sum_{i=1}^NE\\left(X_i^2\\right)-nE\\left(\\hat{\\mu^2}\\right)\\right)=E\\left(X_i^2\\right)-E\\left(\\hat{\\mu^2}\\right)$.\n",
    "\n",
    "Now as $Var\\left(X\\right)=E\\left(X^2\\right)-E\\left(X\\right)^2\\Rightarrow\\ \\sigma^2=E\\left(X^2\\right)-\\mu^2\\Rightarrow E\\left(X^2\\right)=\\sigma^2+\\mu^2$.\n",
    "\n",
    "Also $Var\\left(\\hat{\\mu}\\right)=Var\\left(\\frac{1}{N}\\sum_{i=1}^Nx_i\\right)=\\frac{\\sigma^2}{n}$ and thus, $Var\\left(\\hat{\\mu }\\right)=E\\left(\\hat{\\mu }^2\\right)-E\\left(\\hat{\\mu }\\right)^2\\Rightarrow \\ E\\left(\\hat{\\mu }^2\\right)=\\frac{\\sigma ^2}{n}+\\mu ^2$.\n",
    "\n",
    "Hence, $E\\left(X_i^2\\right)-E\\left(\\hat{\\mu^2}\\right)=\\sigma^2+\\mu^2-\\frac{\\sigma^2}{n}-\\mu^2=\\left(1-\\frac{1}{n}\\right)\\sigma^2\\ne\\sigma^2$"
   ]
  },
  {
   "cell_type": "markdown",
   "metadata": {},
   "source": [
    "### c)\n",
    "Now that it's known that $E\\left(\\hat{\\sigma^2}\\right)=\\left(1-\\frac{1}{n}\\right)\\sigma^2=\\frac{n-1}{n}\\sigma^2$. To get the unbiased estimator, we just have to multiply the $E\\left(\\hat{\\sigma^2}\\right)$ by $\\frac{n}{n-1}$ \n",
    "\n",
    "as $\\frac{n}{n-1}E\\left(\\hat{\\sigma^2}\\right)=\\left(\\frac{n}{n-1}\\right)\\left(\\frac{n-1}{n}\\right)\\sigma^2=\\sigma^2$.\n",
    "\n",
    "Therefore, the unbiased estimator is $\\left(\\frac{N}{N-1}\\right)\\sigma^2=\\left(\\frac{N}{N-1}\\right)\\left(\\frac{1}{N}\\right)\\sum_{i=1}^N\\left(X_i-\\hat{\\mu}\\right)^2=\\left(\\frac{1}{N-1}\\right)\\sum_{i=1}^N\\left(X_i-\\hat{\\mu}\\right)^2$."
   ]
  },
  {
   "cell_type": "markdown",
   "metadata": {},
   "source": [
    "## Task 3\n",
    "### a)"
   ]
  },
  {
   "cell_type": "markdown",
   "metadata": {},
   "source": [
    "## Task 4\n",
    "### a)"
   ]
  }
 ],
 "metadata": {
  "language_info": {
   "name": "python"
  }
 },
 "nbformat": 4,
 "nbformat_minor": 2
}
