{
 "cells": [
  {
   "cell_type": "markdown",
   "metadata": {},
   "source": [
    "# Exercise 7.\n",
    "Group name: TAU03E"
   ]
  },
  {
   "cell_type": "markdown",
   "metadata": {},
   "source": [
    "## Task 1."
   ]
  },
  {
   "cell_type": "markdown",
   "metadata": {},
   "source": [
    "Four-fold frequency table for\n",
    "\n",
    "$ \\phi = \\neg Milk(x) \\land Cheese(x) ,    \\psi = Orange(x) \\lor Cheese(x)$\n",
    "\n",
    "is following:\n",
    "\n",
    "$\\begin{matrix}\n",
    " & \\psi & \\neg \\psi\\\\\n",
    "\\phi & a & b \\\\\n",
    "\\neg \\phi & c & d\\\\\n",
    "\\end{matrix}\n",
    "$"
   ]
  },
  {
   "cell_type": "markdown",
   "metadata": {},
   "source": [
    "Import data and calculate $\\psi$ and $\\phi$ for each child."
   ]
  },
  {
   "cell_type": "code",
   "execution_count": 5,
   "metadata": {},
   "outputs": [],
   "source": [
    "import pandas as pd\n",
    "from io import StringIO\n",
    "\n",
    "data = '''\n",
    "Child Tomato Apple Orange Cheese Milk\n",
    "Anna 1 1 0 1 1\n",
    "Aina 1 1 1 0 0\n",
    "Naima 1 1 1 1 1\n",
    "Rauha 0 1 1 0 1\n",
    "Kai 0 1 0 1 1\n",
    "Kille 1 1 0 0 1\n",
    "Lempi 0 1 1 1 1\n",
    "Ville 1 0 0 0 0\n",
    "Ulle 1 1 0 1 1\n",
    "Dulle 1 0 1 0 0\n",
    "Dof 1 0 1 0 1\n",
    "Kinge 0 1 1 0 1\n",
    "Laade 0 1 0 1 1\n",
    "Koff 1 1 0 0 1\n",
    "Olvi 0 1 1 1 1\n",
    "'''\n",
    "\n",
    "# convert the text to a pandas dataframe\n",
    "df = pd.read_csv(StringIO(data), sep=' ')\n"
   ]
  },
  {
   "cell_type": "code",
   "execution_count": 39,
   "metadata": {},
   "outputs": [
    {
     "name": "stdout",
     "output_type": "stream",
     "text": [
      "a = 0\n",
      "b = 0\n",
      "c = 12\n",
      "d = 3\n"
     ]
    }
   ],
   "source": [
    "\n",
    "# phi = ¬Milk(x) ∧ Cheese(x)\n",
    "phi = df[(df['Milk'] == 0) & (df['Cheese'] == 1)]\n",
    "#print(phi)\n",
    "\n",
    "# psi = Orange(x) ∨ Cheese(x).\n",
    "psi = df[(df['Orange'] == 1) | (df['Cheese'] == 1)].sort_index()\n",
    "#print(psi)\n",
    "\n",
    "# phi and psi\n",
    "a = df[df.index.isin(phi.index) & df.index.isin(psi.index)]\n",
    "print(f\"a = {len(a)}\")\n",
    "\n",
    "# phi and ¬psi\n",
    "b = df[~df.index.isin(psi.index) & df.index.isin(phi.index)]\n",
    "print(f\"b = {len(b)}\")\n",
    "\n",
    "# ¬phi and psi\n",
    "c = df[~df.index.isin(phi.index) & df.index.isin(psi.index)]\n",
    "print(f\"c = {len(c)}\")\n",
    "\n",
    "# ¬phi and ¬psi\n",
    "d = df[~df.index.isin(phi.index) & ~df.index.isin(psi.index)]\n",
    "print(f\"d = {len(d)}\")\n"
   ]
  },
  {
   "cell_type": "markdown",
   "metadata": {},
   "source": [
    "Insert the a,b,c and d to the four-fold frequency table\n",
    "\n",
    "$\\begin{matrix}\n",
    " & \\psi & \\neg \\psi\\\\\n",
    "\\phi & 0 & 0 \\\\\n",
    "\\neg \\phi & 12 & 3\\\\\n",
    "\\end{matrix}\n",
    "$"
   ]
  }
 ],
 "metadata": {
  "kernelspec": {
   "display_name": "myenv",
   "language": "python",
   "name": "python3"
  },
  "language_info": {
   "codemirror_mode": {
    "name": "ipython",
    "version": 3
   },
   "file_extension": ".py",
   "mimetype": "text/x-python",
   "name": "python",
   "nbconvert_exporter": "python",
   "pygments_lexer": "ipython3",
   "version": "3.12.0"
  }
 },
 "nbformat": 4,
 "nbformat_minor": 2
}
