{
 "cells": [
  {
   "cell_type": "markdown",
   "metadata": {},
   "source": [
    "# Exercise 7.\n",
    "Group name: TAU03E"
   ]
  },
  {
   "cell_type": "markdown",
   "metadata": {},
   "source": [
    "## Task 1."
   ]
  },
  {
   "cell_type": "markdown",
   "metadata": {},
   "source": [
    "Four-fold frequency table for\n",
    "\n",
    "$ \\phi = \\neg Milk(x) \\land Cheese(x) ,    \\psi = Orange(x) \\lor Cheese(x)$\n",
    "\n",
    "is following:\n",
    "\n",
    "$\\begin{matrix}\n",
    " & \\psi & \\neg \\psi\\\\\n",
    "\\phi & a & b \\\\\n",
    "\\neg \\phi & c & d\\\\\n",
    "\\end{matrix}\n",
    "$"
   ]
  },
  {
   "cell_type": "markdown",
   "metadata": {},
   "source": [
    "Import data and calculate $\\psi$ and $\\phi$ for each child."
   ]
  },
  {
   "cell_type": "code",
   "execution_count": 1,
   "metadata": {},
   "outputs": [],
   "source": [
    "import pandas as pd\n",
    "from io import StringIO\n",
    "\n",
    "data = '''\n",
    "Child Tomato Apple Orange Cheese Milk\n",
    "Anna 1 1 0 1 1\n",
    "Aina 1 1 1 0 0\n",
    "Naima 1 1 1 1 1\n",
    "Rauha 0 1 1 0 1\n",
    "Kai 0 1 0 1 1\n",
    "Kille 1 1 0 0 1\n",
    "Lempi 0 1 1 1 1\n",
    "Ville 1 0 0 0 0\n",
    "Ulle 1 1 0 1 1\n",
    "Dulle 1 0 1 0 0\n",
    "Dof 1 0 1 0 1\n",
    "Kinge 0 1 1 0 1\n",
    "Laade 0 1 0 1 1\n",
    "Koff 1 1 0 0 1\n",
    "Olvi 0 1 1 1 1\n",
    "'''\n",
    "\n",
    "# convert the text to a pandas dataframe\n",
    "df = pd.read_csv(StringIO(data), sep=' ')\n"
   ]
  },
  {
   "cell_type": "code",
   "execution_count": 2,
   "metadata": {},
   "outputs": [
    {
     "name": "stdout",
     "output_type": "stream",
     "text": [
      "a = 0\n",
      "b = 0\n",
      "c = 12\n",
      "d = 3\n"
     ]
    }
   ],
   "source": [
    "\n",
    "# phi = ¬Milk(x) ∧ Cheese(x)\n",
    "phi = df[(df['Milk'] == 0) & (df['Cheese'] == 1)]\n",
    "#print(phi)\n",
    "\n",
    "# psi = Orange(x) ∨ Cheese(x).\n",
    "psi = df[(df['Orange'] == 1) | (df['Cheese'] == 1)].sort_index()\n",
    "#print(psi)\n",
    "\n",
    "# phi and psi\n",
    "a = df[df.index.isin(phi.index) & df.index.isin(psi.index)]\n",
    "print(f\"a = {len(a)}\")\n",
    "\n",
    "# phi and ¬psi\n",
    "b = df[~df.index.isin(psi.index) & df.index.isin(phi.index)]\n",
    "print(f\"b = {len(b)}\")\n",
    "\n",
    "# ¬phi and psi\n",
    "c = df[~df.index.isin(phi.index) & df.index.isin(psi.index)]\n",
    "print(f\"c = {len(c)}\")\n",
    "\n",
    "# ¬phi and ¬psi\n",
    "d = df[~df.index.isin(phi.index) & ~df.index.isin(psi.index)]\n",
    "print(f\"d = {len(d)}\")\n"
   ]
  },
  {
   "cell_type": "markdown",
   "metadata": {},
   "source": [
    "Insert the a,b,c and d to the four-fold frequency table\n",
    "\n",
    "$\\begin{matrix}\n",
    " & \\psi & \\neg \\psi\\\\\n",
    "\\phi & 0 & 0 \\\\\n",
    "\\neg \\phi & 12 & 3\\\\\n",
    "\\end{matrix}\n",
    "$"
   ]
  },
  {
   "cell_type": "markdown",
   "metadata": {},
   "source": [
    "## Task 2.\n",
    "Four-fold frequency table for\n",
    "\n",
    "$ \\phi = Apple(x) ,    \\psi = Cheese(x)$\n",
    "\n",
    "is following:\n",
    "\n",
    "$\\begin{matrix}\n",
    " & \\psi & \\neg \\psi\\\\\n",
    "\\phi & a & b \\\\\n",
    "\\neg \\phi & c & d\\\\\n",
    "\\end{matrix}\n",
    "$"
   ]
  },
  {
   "cell_type": "code",
   "execution_count": 16,
   "metadata": {},
   "outputs": [
    {
     "name": "stdout",
     "output_type": "stream",
     "text": [
      "a = 7\n",
      "b = 5\n",
      "c = 0\n",
      "d = 3\n"
     ]
    }
   ],
   "source": [
    "phi_filter = df[\"Apple\"] == 1\n",
    "psi_filter = df[\"Cheese\"] == 1\n",
    "\n",
    "a = len(df[phi_filter & psi_filter])\n",
    "b = len(df[phi_filter & ~psi_filter])\n",
    "c = len(df[~phi_filter & psi_filter])\n",
    "d = len(df[~phi_filter & ~psi_filter])\n",
    "print(\"a =\",a)\n",
    "print(\"b =\",b)\n",
    "print(\"c =\",c)\n",
    "print(\"d =\",d)"
   ]
  },
  {
   "cell_type": "markdown",
   "metadata": {},
   "source": [
    "Insert the a,b,c and d to the four-fold frequency table\n",
    "\n",
    "$\\begin{matrix}\n",
    " & \\psi & \\neg \\psi\\\\\n",
    "\\phi & 7 & 5 \\\\\n",
    "\\neg \\phi & 0 & 3\\\\\n",
    "\\end{matrix}\n",
    "$"
   ]
  },
  {
   "cell_type": "markdown",
   "metadata": {},
   "source": [
    "## Task 3."
   ]
  },
  {
   "cell_type": "markdown",
   "metadata": {},
   "source": [
    "It's defined that $\\text{Apple}\\left(x\\right)\\Rightarrow _{0.6{,}4}\\text{Cheese}\\left(x\\right)\\ =\\ \\text{True}$ iff $\\frac{a}{a+b}\\ge p\\ \\text{and}\\ a\\ge\\text{Base}$.\n"
   ]
  },
  {
   "cell_type": "code",
   "execution_count": 21,
   "metadata": {},
   "outputs": [
    {
     "name": "stdout",
     "output_type": "stream",
     "text": [
      "a/(a+b) ≥ p: False\n",
      "a ≥ base: True\n"
     ]
    }
   ],
   "source": [
    "base = 4\n",
    "p = 0.6\n",
    "ratio = a/(a+b)\n",
    "\n",
    "print(\"a/(a+b) ≥ p:\", ratio >= p)\n",
    "print(\"a ≥ base:\", a >= base)"
   ]
  },
  {
   "cell_type": "markdown",
   "metadata": {},
   "source": [
    "Therefore, $\\text{Apple}\\left(x\\right)\\Rightarrow _{0.6{,}4}\\text{Cheese}\\left(x\\right)\\ =\\ \\text{False}$"
   ]
  },
  {
   "cell_type": "markdown",
   "metadata": {},
   "source": [
    "## Task 4.\n",
    "It's defined that $\\text{Apple}\\left(x\\right)\\ \\equiv _{0.7}\\ \\text{Cheese}\\left(x\\right)\\ =\\ \\text{True}$ iff $\\left(a+d\\right)\\ge p\\left(a+b+c+d\\right)$. Exception is the case, when $a+d=0{,}\\ b+c\\ne 0$, then False."
   ]
  },
  {
   "cell_type": "code",
   "execution_count": 22,
   "metadata": {},
   "outputs": [
    {
     "name": "stdout",
     "output_type": "stream",
     "text": [
      "(a+d) ≥ p(a+b+c+d): False\n"
     ]
    }
   ],
   "source": [
    "p = 0.7\n",
    "print(\"(a+d) ≥ p(a+b+c+d):\", (a+d)>=p*(a+b+c+d))"
   ]
  },
  {
   "cell_type": "markdown",
   "metadata": {},
   "source": [
    "Therefore, $\\text{Apple}\\left(x\\right)\\ \\equiv _{0.7}\\ \\text{Cheese}\\left(x\\right)\\ =\\ \\text{False}$ "
   ]
  }
 ],
 "metadata": {
  "kernelspec": {
   "display_name": "myenv",
   "language": "python",
   "name": "python3"
  },
  "language_info": {
   "codemirror_mode": {
    "name": "ipython",
    "version": 3
   },
   "file_extension": ".py",
   "mimetype": "text/x-python",
   "name": "python",
   "nbconvert_exporter": "python",
   "pygments_lexer": "ipython3",
   "version": "3.10.14"
  }
 },
 "nbformat": 4,
 "nbformat_minor": 2
}
