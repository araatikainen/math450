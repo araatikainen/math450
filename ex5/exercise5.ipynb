{
 "cells": [
  {
   "cell_type": "markdown",
   "metadata": {},
   "source": [
    "# Exercise 5.\n",
    "Group name: TAU03E"
   ]
  },
  {
   "cell_type": "markdown",
   "metadata": {},
   "source": [
    "## Task 1.\n",
    "The projection of a vector $f$ onto the subspace $M$ is the closest point in $M$ to $f$ in terms of Euclidean distance. This projection $P_M f$ can be represented as a linear combination of the basis vectors $\\left\\{v_1{,}v_2{,}\\dots{,}v_r\\right\\}$ for $M$:\n",
    "\n",
    "$P_Mf=\\sum_{k=1}^r\\alpha_kv_k{,}$, where $\\alpha_k$ is a coefficient.\n",
    "\n",
    "As $v_k$ are orthonormal vectors, therefore $v_i^Tv_j=\\begin{cases}\n",
    "1{,}&\\text{when}\\ i=j\\\\\n",
    "0{,}&\\text{when}\\ i\\ne j\n",
    "\\end{cases}$. To find the coeffiecient, let's take projection with $v_j$ for $j=1{,}\\dots{,}r$.\n",
    "\n",
    "$v_j^TP_Mf=v_j^T\\left(\\sum_{k=1}^r\\alpha_kv_k\\right)\\Rightarrow v_j^TP_Mf=\\sum_{k=1}^r\\alpha_kv_j^Tv_k=\\alpha_j$.\n",
    "\n",
    "This means that $\\alpha_j=v_j^Tf=f^Tv_j$ and hence, it can be written that $P_Mf=\\sum _{k=1}^r\\left(f^Tv_k\\right)v_k$."
   ]
  },
  {
   "cell_type": "markdown",
   "metadata": {},
   "source": [
    "## Task 3.\n",
    "Let's suppose it's the case for vector $x$ that $x\\in N\\left(A\\right)$. Then by definition $Ax=0$.\n",
    "\n",
    "Now it can be shown that $x\\in N\\left(A^TA\\right)$ as $Ax=0$ thus $A^TAx=A^T0=0$. Therefore, $N(A)\\subseteq N(A^TA)$.\n",
    "\n",
    "Let's suppose that $x\\in N\\left(A^TA\\right)$. Then by definition $A^TAx=0$.\n",
    "\n",
    "Now let's consider the inner product $x^T\\left(A^TA\\right)x=\\left(Ax\\right)^T\\left(Ax\\right)=\\left|\\left|Ax\\right|\\right|^2=0$. Since, $\\left|\\left|Ax\\right|\\right|^2=0$ thus $Ax=0$ and hence  $N(A^TA)\\subseteq N(A)$.\n",
    "\n",
    "Now it has been shown that $N(A)\\subseteq N(A^TA)$ and $N(A^TA)\\subseteq N(A)$. Therefore, $N(A)=N(A^TA)$."
   ]
  },
  {
   "cell_type": "markdown",
   "metadata": {},
   "source": []
  }
 ],
 "metadata": {
  "language_info": {
   "name": "python"
  }
 },
 "nbformat": 4,
 "nbformat_minor": 2
}
