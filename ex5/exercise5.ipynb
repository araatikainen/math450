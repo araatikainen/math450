{
 "cells": [
  {
   "cell_type": "markdown",
   "metadata": {},
   "source": [
    "# Exercise 5.\n",
    "Group name: TAU03E"
   ]
  },
  {
   "cell_type": "markdown",
   "metadata": {},
   "source": [
    "## Task 1.\n",
    "The projection of a vector $f$ onto the subspace $M$ is the closest point in $M$ to $f$ in terms of Euclidean distance. This projection $P_M f$ can be represented as a linear combination of the basis vectors $\\left\\{v_1{,}v_2{,}\\dots{,}v_r\\right\\}$ for $M$:\n",
    "\n",
    "$P_Mf=\\sum_{k=1}^r\\alpha_kv_k{,}$, where $\\alpha_k$ is a coefficient.\n",
    "\n",
    "As $v_k$ are orthonormal vectors, therefore $v_i^Tv_j=\\begin{cases}\n",
    "1{,}&\\text{when}\\ i=j\\\\\n",
    "0{,}&\\text{when}\\ i\\ne j\n",
    "\\end{cases}$. To find the coeffiecient, let's take projection with $v_j$ for $j=1{,}\\dots{,}r$.\n",
    "\n",
    "$v_j^TP_Mf=v_j^T\\left(\\sum_{k=1}^r\\alpha_kv_k\\right)\\Rightarrow v_j^TP_Mf=\\sum_{k=1}^r\\alpha_kv_j^Tv_k=\\alpha_j$.\n",
    "\n",
    "This means that $\\alpha_j=v_j^Tf=f^Tv_j$ and hence, it can be written that $P_Mf=\\sum _{k=1}^r\\left(f^Tv_k\\right)v_k$."
   ]
  },
  {
   "cell_type": "markdown",
   "metadata": {},
   "source": []
  }
 ],
 "metadata": {
  "language_info": {
   "name": "python"
  }
 },
 "nbformat": 4,
 "nbformat_minor": 2
}
