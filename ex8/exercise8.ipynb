{
 "cells": [
  {
   "cell_type": "markdown",
   "metadata": {},
   "source": [
    "# Exercise 8.\n",
    "Group name: TAU03E"
   ]
  },
  {
   "cell_type": "markdown",
   "metadata": {},
   "source": [
    "## Task 1."
   ]
  },
  {
   "cell_type": "markdown",
   "metadata": {},
   "source": [
    "## Task 2."
   ]
  },
  {
   "cell_type": "markdown",
   "metadata": {},
   "source": [
    "Let's create a discrete model with discrete time. Defining individual different rates of change for each state (Egg, caterpillar, cocoon and flying moth). Each state has it's own inflow and outflow rates.\n",
    "\n",
    "Egg state: $\\frac{dN_1}{dt}=N_4\\cdot l_4-N_1\\left(m_1+h_1\\right)$, where $N_4$ is the amount of moths, $l_4$ is the rate of laying eggs, $N_1$ is the size of egg population, $m_1$ is the egg mortality rate and $h_1$ is the egg hatching rate.\n",
    "\n",
    "Caterpillar state: $\\frac{dN_2}{dt}=N_1\\cdot h_1-N_2\\left(m_2+p_2\\right)$, where $N_2$ is the amount of caterpillars, $m_2$ is the caterpillar mortality rate and $p_2$ is the caterpillar pupation rate.\n",
    "\n",
    "Cocoon state: $\\frac{dN_3}{dt}=N_2\\cdot p_2-N_3\\left(m_3+h_3\\right)$, where $N_3$ is the amount of cocoons, $h_3$ is the hatching rate and $m_3$ is the mortality rate. Mortality rate is affected by the environment $A_3$ and state duration $t_3$, so $m_3=A_3\\cdot t_3$.\n",
    "\n",
    "Flying moth state: $\\frac{dN_4}{dt}=N_3\\cdot h_3-N_4\\cdot m_4$, where $N_3$ is the amount of cocoons, $h_3$ is the hatching rate and $m_4$ is the mortality rate."
   ]
  },
  {
   "cell_type": "markdown",
   "metadata": {},
   "source": [
    "Therefore, population of moths at time function $N_4(t)$ can be solved from\n",
    "\n",
    "$\\frac{dN_4}{dt}=N_3\\cdot h_3-N_4\\cdot m_4$\n",
    "\n",
    "$\\frac{dN_4}{dt} + N_4\\cdot m_4 =N_3\\cdot h_3 $,\n",
    "\n",
    "which is a diffential equation and can be split into homogenous and particular equation. Homogenous solution is\n",
    "\n",
    "$\\frac{dN_4}{dt} + N_4\\cdot m_4 = 0 \\Rightarrow N_{4}^h(t) = Ce^{-m_4t}$,\n",
    "\n",
    "and particular equation solution is $N_4^{p} = \\frac{N_3\\cdot h_3}{m_4}$.\n",
    "\n",
    "Now $N_4(t) = N_{4}^h(t) + N_4^{p} = Ce^{-m_4t}+\\frac{N_3\\cdot h_3}{m_4}$, where $C$ can be determined using initial population of moths at $t=0$ and $N_4(0) = N_0$, where $N_0$ is the initial population. \n",
    "\n",
    "Solution for C is $N_4(0) = C + \\frac{N_3\\cdot h_3}{m_4} = N_0 \\Rightarrow C = N_0\\frac{N_3\\cdot h_3}{m_4}$\n",
    "\n",
    "Thus,\n",
    "\n",
    "$N_4(t) =(N_0\\frac{N_3\\cdot h_3}{m_4}) e^{-m_4t}+\\frac{N_3\\cdot h_3}{m_4}$"
   ]
  },
  {
   "cell_type": "markdown",
   "metadata": {},
   "source": [
    "Discrete time dynamics allow to simulate population dynamics at time $t+1$.\n",
    "\n",
    "$N_4(t+1) = (N_0\\frac{N_3\\cdot h_3}{m_4}) e^{-m_4(t+1)}+\\frac{N_3\\cdot h_3}{m_4} $."
   ]
  },
  {
   "cell_type": "markdown",
   "metadata": {},
   "source": [
    "Conserved quantities in this model are mortality rates $m_i$, hatching rate $h_1$ and $h_3$, caterpillar pupation rate $p_2$, and environment $A_3$. They all interact with each other in Flying moth state $\\frac{dN_4}{dt}$. "
   ]
  }
 ],
 "metadata": {
  "language_info": {
   "name": "python"
  }
 },
 "nbformat": 4,
 "nbformat_minor": 2
}
