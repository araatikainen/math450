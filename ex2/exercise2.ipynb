{
 "cells": [
  {
   "cell_type": "markdown",
   "metadata": {},
   "source": [
    "# Exercise 2."
   ]
  },
  {
   "cell_type": "markdown",
   "metadata": {},
   "source": [
    "## Task 0.1"
   ]
  },
  {
   "cell_type": "markdown",
   "metadata": {},
   "source": [
    "### 1)\n",
    "It's known that the disease isn't fatal (i) and the births and deaths can be ignored (ii) and recovered individuals are permanently immune (iii).\n",
    "\n",
    "Therefore, the population can be considered constant.\n",
    "\n",
    "This can be also shown as $S'+I'+R'=\\frac{dS}{dt}+\\frac{dI}{dt}+\\frac{dR}{dt}=-\\frac{c_0SI}{N}+\\left(\\frac{c_0SI}{N}-c_1I\\right)+c_1I=0$.\n",
    "Thus, $N´(t)=0\\ \\forall t \\Rightarrow N=\\text{constant}$."
   ]
  },
  {
   "cell_type": "markdown",
   "metadata": {},
   "source": [
    "### 2)\n",
    "It's known that $c_0{,}c_1>0$.\n",
    "As $t\\rightarrow\\infty\\ \\Rightarrow\\ S\\ \\rightarrow\\ 0$, because $S´\\left(t\\right)\\ \\le 0\\ \\forall t$. The rate of change in the number of infected $I$ consists of two components: \n",
    "1. the number of individuals getting infected $\\frac{c_0SI}{N}$\n",
    "2. the number of individuals getting recovered $c_1I$\n",
    "\n",
    "$I'$ can be rewritten as $I'=I\\left(\\frac{c_0S}{N}-c_1\\right)$. Thus if $\\frac{c_0S}{N}>c_1$, then $I'>0$ and the number of infected will increase. \n",
    "\n",
    "In the early stages of disease, where $S\\approx N$, it can be written that if $c_0>c_1$ then $I'>0$.\n",
    "\n",
    "If $c_0<c_1$, then $I'<0 \\ \\forall t$ as it's known that $t\\rightarrow\\infty\\ \\Rightarrow\\ S\\ \\rightarrow\\ 0$ and therefore $\\frac{c_0S}{N}\\rightarrow\\ 0$.\n",
    "\n",
    "However, if it's the situation that $c_0>c_1$, then $I'>0$ when $\\frac{c_0S}{N}>c_1$. But as written before $t\\rightarrow\\infty\\ \\Rightarrow\\ \\frac{c_0S}{N}\\rightarrow\\ 0$.\n",
    "\n",
    "This means that there will be a tipping point when $\\frac{c_0S}{N}=c_1$ and from there on $\\frac{c_0S}{N}<c_1 \\Rightarrow\\ I'<0$.\n",
    "\n",
    "Consequently, $I\\ \\rightarrow\\ 0$ as $t\\rightarrow\\infty$ and for that reason the disease cannot be an endemic."
   ]
  },
  {
   "cell_type": "markdown",
   "metadata": {},
   "source": [
    "### 3)\n",
    "The disease can be an epidemic if $\\frac{c_0S}{N}>c_1$. Otherwise, the rate of change $I'<0$."
   ]
  },
  {
   "cell_type": "markdown",
   "metadata": {},
   "source": [
    "### 4)\n",
    "The product term $SI$ describes the probability well as it contains the two factors that contribute to the likelyhood: $S$ describes the number of individuals who can be infected and $I$ describes the number of individuals that can infect others."
   ]
  },
  {
   "cell_type": "markdown",
   "metadata": {},
   "source": [
    "## Task 0.3"
   ]
  },
  {
   "cell_type": "markdown",
   "metadata": {},
   "source": [
    "### 1)\n",
    "Let's check if $S+I+R$ is still constant. N is constant if $S'+I'+R'=\\frac{dS}{dt}+\\frac{dI}{dt}+\\frac{dR}{dt}=0$.\n",
    "\n",
    "However, $c_3N-\\frac{c_0SI}{N}+\\left(c_2R-c_3S+\\frac{c_0SI}{N}-c_1I-c_3I\\right)+\\left(c_1I-c_2R-c_3R\\right)=c_3N-c_3S-c_3I-c_3R\\ne0$ as $c_3>0$."
   ]
  },
  {
   "cell_type": "markdown",
   "metadata": {},
   "source": [
    "### 2)\n",
    "By eliminating $R$ from the first equation, we get resulting system for S,I:\n",
    "\n",
    "$\\begin{cases}\n",
    "c_3N-\\frac{c_0SI}{N}-c_3S&=c_3\\left(N-S\\right)-\\frac{c_0SI}{N}\\\\\n",
    "\\frac{c_0SI}{N}-c_1I-c_3I&=\\frac{c_0SI}{N}-I\\left(c_1+c_3\\right)\n",
    "\\end{cases}$ to solve for equilibrium points, let's set both rates to zero $\\begin{cases}\n",
    "c_3\\left(N-S\\right)-\\frac{c_0SI}{N}=0\\\\\n",
    "\\frac{c_0SI}{N}-I\\left(c_1+c_3\\right)=0\n",
    "\\end{cases}$\n",
    "\n",
    "The trivial equilibrium point is $S=N$ and $I=0$. The other equilibrium point is $S=\\frac{N\\left(c_0+c_3\\right)}{c_0}$ and $I=-\\frac{c_3^2N}{c_0\\left(c_0+c_3\\right)}$. However, as $c_0{,}c_3>0$, then $I<0$ which is not possible. \n",
    "\n",
    "Therefore the only solution is the trivial one which is hyperbolic and does not depend on parameter values."
   ]
  },
  {
   "cell_type": "markdown",
   "metadata": {},
   "source": [
    "### 3)\n",
    "The previous subtask demonstrated that the system can only reach a steady state if the disease eventually dies out ($I=0$). This can be expanded to apply to the complete system as instead of $N=S \\Rightarrow N=S+R$. If this state is never reached then $I$ won't approach 0 and the disease will end up in endemic state.\n",
    "\n",
    "Epidemics can occur when $I'>0$. $I'$ can be reformulated as $I'\\ =\\ I\\left(\\frac{c_0S}{N}-c_1-c_3\\right)$, which means that there is an epidemic if $\\frac{c_0S}{N}>c_1+c_3$. Constant $c_0$ can be thought as the infection rate of the susceptible population, $S/N$ is portion of the whole population that are susceptible, $c_1$ is the recovery rate from the infection and $c_3$ is the mortality rate. Based on the condition, rule for epidemics is that if the number of infection rate of susceptible population is higher than combined recovery and mortality rate of the disease, then there will be an epidemic."
   ]
  },
  {
   "cell_type": "markdown",
   "metadata": {},
   "source": [
    "### 4)\n",
    "TODO"
   ]
  }
 ],
 "metadata": {
  "language_info": {
   "name": "python"
  }
 },
 "nbformat": 4,
 "nbformat_minor": 2
}
