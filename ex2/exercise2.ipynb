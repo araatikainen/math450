{
 "cells": [
  {
   "cell_type": "markdown",
   "metadata": {},
   "source": [
    "# Exercise 2."
   ]
  },
  {
   "cell_type": "markdown",
   "metadata": {},
   "source": [
    "## Task 0.1"
   ]
  },
  {
   "cell_type": "markdown",
   "metadata": {},
   "source": [
    "### 1)\n",
    "It's known that the disease isn't fatal (i) and the births and deaths can be ignored (ii) and recovered individuals are permanently immune (iii).\n",
    "\n",
    "Therefore, the population can be considered constant.\n",
    "\n",
    "This can be also shown as $S'+I'+R'=\\frac{dS}{dt}+\\frac{dI}{dt}+\\frac{dR}{dt}=-\\frac{c_0SI}{N}+\\left(\\frac{c_0SI}{N}-c_1I\\right)+c_1I=0$.\n",
    "Thus, $N´(t)=0\\ \\forall t \\Rightarrow N=\\text{constant}$."
   ]
  },
  {
   "cell_type": "markdown",
   "metadata": {},
   "source": [
    "### 2)\n",
    "It's known that $c_0{,}c_1>0$.\n",
    "As $t\\rightarrow\\infty\\ \\Rightarrow\\ S\\ \\rightarrow\\ 0$, because $S´\\left(t\\right)\\ \\le 0\\ \\forall t$. The rate of change in the number of infected $I$ consists of two components: \n",
    "1. the number of individuals getting infected $\\frac{c_0SI}{N}$\n",
    "2. the number of individuals getting recovered $c_1I$\n",
    "\n",
    "$I'$ can be rewritten as $I'=I\\left(\\frac{c_0S}{N}-c_1\\right)$. Thus if $\\frac{c_0S}{N}>c_1$, then $I'>0$ and the number of infected will increase. \n",
    "\n",
    "In the early stages of disease, where $S\\approx N$, it can be written that if $c_0>c_1$ then $I'>0$.\n",
    "\n",
    "If $c_0<c_1$, then $I'<0 \\ \\forall t$ as it's known that $t\\rightarrow\\infty\\ \\Rightarrow\\ S\\ \\rightarrow\\ 0$ and therefore $\\frac{c_0S}{N}\\rightarrow\\ 0$.\n",
    "\n",
    "However, if it's the situation that $c_0>c_1$, then $I'>0$ when $\\frac{c_0S}{N}>c_1$. But as written before $t\\rightarrow\\infty\\ \\Rightarrow\\ \\frac{c_0S}{N}\\rightarrow\\ 0$.\n",
    "\n",
    "This means that there will be a tipping point when $\\frac{c_0S}{N}=c_1$ and from there on $\\frac{c_0S}{N}<c_1 \\Rightarrow\\ I'<0$.\n",
    "\n",
    "Consequently, $I\\ \\rightarrow\\ 0$ as $t\\rightarrow\\infty$ and for that reason the disease cannot be an endemic."
   ]
  },
  {
   "cell_type": "markdown",
   "metadata": {},
   "source": [
    "### 3)\n",
    "The disease can be an epidemic if $\\frac{c_0S}{N}>c_1$. Otherwise, the rate of change $I'<0$."
   ]
  },
  {
   "cell_type": "markdown",
   "metadata": {},
   "source": [
    "### 4)\n",
    "The product term $SI$ describes the probability well as it contains the two factors that contribute to the likelyhood: $S$ describes the number of individuals who can be infected and $I$ describes the number of individuals that can infect others."
   ]
  }
 ],
 "metadata": {
  "language_info": {
   "name": "python"
  }
 },
 "nbformat": 4,
 "nbformat_minor": 2
}
