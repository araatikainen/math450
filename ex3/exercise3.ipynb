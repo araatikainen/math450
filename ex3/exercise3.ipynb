{
 "cells": [
  {
   "cell_type": "markdown",
   "metadata": {},
   "source": [
    "# Exercise 2.\n",
    "Group name: TAU03E"
   ]
  },
  {
   "cell_type": "markdown",
   "metadata": {},
   "source": [
    "## Task 1.\n",
    "### a)\n",
    "It's known that $m=M^1L^0T^0$ and $l=M^0L^1T^0$. Also it's known that $g=\\frac{\\Delta v}{\\Delta t}$, where $\\Delta v=\\frac{\\Delta s}{\\Delta t}$. Thus $g=\\frac{\\Delta s}{\\Delta t^2}\\Rightarrow \\ g=M^0L^1T^{-2}$.\n",
    "\n",
    "The period $P$ is a measure of time so its dimension is $P=M^0L^0T^1$. Therefore, the matrix is $\\begin{pmatrix}\n",
    "m\\\\\n",
    "l\\\\\n",
    "g\\\\\n",
    "P\n",
    "\\end{pmatrix}\\begin{pmatrix}\n",
    "1&0&0\\\\\n",
    "0&1&0\\\\\n",
    "0&1&-2\\\\\n",
    "0&0&1\n",
    "\\end{pmatrix}$."
   ]
  },
  {
   "cell_type": "markdown",
   "metadata": {},
   "source": [
    "### b)\n",
    "It's known that $\\pi=m^{\\alpha}l^{\\beta}g^{\\gamma}P^{\\delta}$, where $g=LT^{-2}$. Thus, $\\pi=M^{\\alpha}L^{\\beta}\\left(LT^{-2}\\right)^{\\gamma}T^{\\delta}=M^{\\alpha}L^{\\beta+\\gamma}T^{\\delta-2\\gamma}$. For the quantities to be dimensionless (i.e. $M^0L^0T^0$) the following has to apply $\\alpha=0{,}\\ \\beta+\\gamma=0\\ \\text{and}\\ \\delta-2\\gamma=0\\ \\Rightarrow\\ \\alpha=0\\ \\text{and}\\ \\beta=-\\gamma=\\frac{\\delta}{2}$. Hence, $\\pi=l^{\\beta}g^{-\\beta}P^{2\\beta}$, where $\\beta \\in R$."
   ]
  },
  {
   "cell_type": "markdown",
   "metadata": {},
   "source": []
  }
 ],
 "metadata": {
  "language_info": {
   "name": "python"
  }
 },
 "nbformat": 4,
 "nbformat_minor": 2
}
