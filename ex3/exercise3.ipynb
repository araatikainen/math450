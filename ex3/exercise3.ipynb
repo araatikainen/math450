{
 "cells": [
  {
   "cell_type": "markdown",
   "metadata": {},
   "source": [
    "# Exercise 2.\n",
    "Group name: TAU03E"
   ]
  },
  {
   "cell_type": "markdown",
   "metadata": {},
   "source": [
    "## Task 1.\n",
    "### a)\n",
    "It's known that $m=M^1L^0T^0$ and $l=M^0L^1T^0$. Also it's known that $g=\\frac{\\Delta v}{\\Delta t}$, where $\\Delta v=\\frac{\\Delta s}{\\Delta t}$. Thus $g=\\frac{\\Delta s}{\\Delta t^2}\\Rightarrow \\ g=M^0L^1T^{-2}$.\n",
    "\n",
    "The period $P$ is a measure of time so its dimension is $P=M^0L^0T^1$. Therefore, the matrix is $\\begin{pmatrix}\n",
    "m\\\\\n",
    "l\\\\\n",
    "g\\\\\n",
    "P\n",
    "\\end{pmatrix}\\begin{pmatrix}\n",
    "1&0&0\\\\\n",
    "0&1&0\\\\\n",
    "0&1&-2\\\\\n",
    "0&0&1\n",
    "\\end{pmatrix}$."
   ]
  },
  {
   "cell_type": "markdown",
   "metadata": {},
   "source": [
    "### b)\n",
    "It's known that $\\pi=m^{\\alpha}l^{\\beta}g^{\\gamma}P^{\\delta}$, where $g=LT^{-2}$. Thus, $\\pi=M^{\\alpha}L^{\\beta}\\left(LT^{-2}\\right)^{\\gamma}T^{\\delta}=M^{\\alpha}L^{\\beta+\\gamma}T^{\\delta-2\\gamma}$. For the quantities to be dimensionless (i.e. $M^0L^0T^0$) the following has to apply $\\alpha=0{,}\\ \\beta+\\gamma=0\\ \\text{and}\\ \\delta-2\\gamma=0\\ \\Rightarrow\\ \\alpha=0\\ \\text{and}\\ \\beta=-\\gamma=\\frac{\\delta}{2}$. Hence, $\\pi=l^{\\beta}g^{-\\beta}P^{2\\beta}$, where $\\beta \\in R$."
   ]
  },
  {
   "cell_type": "markdown",
   "metadata": {},
   "source": []
  },
  {
   "cell_type": "markdown",
   "metadata": {},
   "source": [
    "## Task 4.\n",
    "\n",
    "Capillarity phenomenon systems variables are $(h, r, \\gamma, \\rho, g)$, thus $h = \\mathcal{f}(h, r, \\gamma, \\rho, g)$."
   ]
  },
  {
   "cell_type": "markdown",
   "metadata": {},
   "source": [
    "The dimension matrix of the system includes quantities $M, L, T$, and from the lectures dimension matrix is\n",
    "\n",
    "$\\begin{bmatrix}\n",
    "A & M & L & T \\\\\n",
    "h & 0 & 1 & 0 \\\\\n",
    "r & 0 & 1 & 0 \\\\\n",
    "\\rho & 1 & -3 & 0 \\\\\n",
    "\\gamma & 1 & 0 & -2 \\\\\n",
    "g & 0 & 1 & -2 \\\\\n",
    "\\end{bmatrix}$, where $A = \\begin{pmatrix}\n",
    "0 & 1 & 0 \\\\\n",
    "0 & 1 & 0 \\\\\n",
    "1 & -3 & 0 \\\\\n",
    "1 & 0 & -2 \\\\\n",
    "0 & 1 & -2 \\\\\n",
    "\\end{pmatrix}$.\n",
    "\n",
    "Now, as there are 5 variables and 3 dimensions, we must find $5-3=2$ independent dimensionless combinations. \n",
    "Two independent solutions are presented in lecture and they are\n",
    "\n",
    "$\\pi_1 = \\frac{h}{r}$ , $\\pi_2 = \\frac{r^2\\rho g}{\\gamma}$.\n",
    "\n",
    "Applying the Buckingham's $\\pi$ therem, the $\\pi_1 = \\phi(\\pi_2)$, where $\\phi : \\mathbb{R}^{+} \\to \\mathbb{R}^{+}$ is function.\n"
   ]
  },
  {
   "cell_type": "markdown",
   "metadata": {},
   "source": [
    "Thus $\\pi_1 = \\phi (\\frac{r^2\\rho g}{\\gamma}) \\Rightarrow \\frac{h}{r} = \\phi (\\frac{r^2\\rho g}{\\gamma}) \\Rightarrow h = r \\phi (\\frac{r^2\\rho g}{\\gamma})$."
   ]
  },
  {
   "cell_type": "markdown",
   "metadata": {},
   "source": [
    "## Task 5."
   ]
  },
  {
   "cell_type": "markdown",
   "metadata": {},
   "source": [
    "Divide dimension $L$ into $R$ (radial) and $Z$ (vertical). The new dimension matrix includes quantities $M, R, Z, T$:\n",
    "\n",
    "$\\begin{bmatrix}\n",
    "A & M & R & Z & T \\\\\n",
    "h & 0 & 0 & 1 & 0 \\\\\n",
    "r & 0 & 1 & 0 & 0 \\\\\n",
    "\\rho & 1 & -2 & -1 & 0 \\\\\n",
    "\\gamma & 1 & -1 & 1 & -2 \\\\\n",
    "g & 0 & 0 & 1 & -2 \\\\\n",
    "\\end{bmatrix}$\n",
    "\n",
    ", where height $h$ is converted into vertical, $r \\rightarrow radial$, $g \\rightarrow vertical$ and $\\rho$, $\\gamma$ lengths iare divided into both $R$ and $Z$. \n",
    "\n",
    "Now, there are 5 variables and 4 dimensions. By Buckingham's theorem, there exist one dimensionless product $\\pi_1$ such $F(\\pi_1) = 0$, where $\\pi_1 = C$, where $C>0$ is some constant.\n"
   ]
  },
  {
   "cell_type": "markdown",
   "metadata": {},
   "source": [
    "Products: \n",
    "\n",
    "$\\pi = h^ar^b\\rho^c\\gamma^dg^e$\n",
    "\n",
    ", where $a,b,c,d,e$ are exponents which make $\\phi$ dimensionless. Input dimensions to variables, now \n",
    "\n",
    "$\\pi = (Z)^a (R)^b (MR^{-2} Z^{-1})^c (M T^{-2})^d (Z T^{-2})^e$.\n",
    "\n",
    "Exponents need to be zero as previously presented, \n",
    "\n",
    "Thus for \n",
    "$M$: $c+d=0 \\Rightarrow d=-c$,\n",
    "\n",
    "$R$: $b-2c+c=0 \\Rightarrow b=c$,\n",
    "\n",
    "$Z$: $a-c+d+e0 \\Rightarrow a-c-(-c)+e = 0 \\Rightarrow a-2c+e \\Rightarrow a=2c-e \\Rightarrow a=c$,\n",
    "\n",
    "$T$: $-2d-2e = 0 \\Rightarrow -2(-c)-2e=0 \\Rightarrow 2c-2e=0 \\Rightarrow c=e$."
   ]
  },
  {
   "cell_type": "markdown",
   "metadata": {},
   "source": [
    "Now include exponent values $a=c, b=c, d=-c, e=c$ into $\\pi$:\n",
    "\n",
    "$\\pi = h^{c}r^c\\rho^c\\gamma^{-c}g^{c}=(\\frac{hr\\rho g}{\\gamma})^{c}$\n",
    "\n",
    ", from the exponent c, can be dropped as the $\\pi$ is dimensionless.\n",
    "\n",
    "Thus\n",
    "\n",
    "$\\pi=\\frac{hr\\rho g}{\\gamma}$\n"
   ]
  },
  {
   "cell_type": "markdown",
   "metadata": {},
   "source": [
    "Solve for h:\n",
    "\n",
    "$C = \\frac{hr\\rho g}{\\gamma} \\Rightarrow h = C\\frac{\\gamma}{r\\rho g}$\n",
    "\n"
   ]
  },
  {
   "cell_type": "markdown",
   "metadata": {},
   "source": [
    "Formula is seemingly credible. The surface of water in glass near its edge can be bit approximated since now the $r$ is applied in divider. However, it still takes the radius of the glass into action as well as the other relevant variables."
   ]
  }
 ],
 "metadata": {
  "language_info": {
   "name": "python"
  }
 },
 "nbformat": 4,
 "nbformat_minor": 2
}
