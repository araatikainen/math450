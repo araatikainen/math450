{
 "cells": [
  {
   "cell_type": "markdown",
   "metadata": {},
   "source": [
    "# MATH.APP.450 Project (Gold ingots)\n",
    "Group name: TAU03E"
   ]
  },
  {
   "cell_type": "markdown",
   "metadata": {},
   "source": [
    "## Task 1."
   ]
  },
  {
   "cell_type": "markdown",
   "metadata": {},
   "source": [
    "A shipment of 576 gold ingots is packed into 24 stacks, with each stack containing 24 ingots. Ideally, each gold ingot should weigh 100 grams. However, it is known that one of the stacks contains ingots weighing only 99 grams. The goal is to identify the stack with the lighter ingots while minimizing the number of weighings.\n",
    "\n",
    "####  Solution 1 (one weighing):\n",
    "\n",
    "Each stack is assigned a unique number as its identifier, which determines the number of ingots taken from that stack to be weighed on the scale. Thus, the number of ingots on the scale is $1+2+3+...+24=\\frac{24\\cdot25}{2}=300$. If all ingots weighed 100 g, then the total weight would be 30,000 g. However as one of as one of the piles contain ingots off by 1 g, then identifier of that stack can be determined by equation $\\text{id}_{stack}=30{,}000-W$."
   ]
  },
  {
   "cell_type": "markdown",
   "metadata": {},
   "source": []
  }
 ],
 "metadata": {
  "language_info": {
   "name": "python"
  }
 },
 "nbformat": 4,
 "nbformat_minor": 2
}
