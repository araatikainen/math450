{
 "cells": [
  {
   "cell_type": "markdown",
   "metadata": {},
   "source": [
    "# MATH.APP.450 Project (Gold ingots)\n",
    "Group name: TAU03E"
   ]
  },
  {
   "cell_type": "markdown",
   "metadata": {},
   "source": [
    "## Task 1.\n",
    "A shipment of 576 gold ingots is packed into 24 stacks, with each stack containing 24 ingots. Ideally, each gold ingot should weigh 100 grams. However, it is known that one of the stacks contains ingots weighing only 99 grams. The goal is to identify the stack with the lighter ingots while minimizing the number of weighings."
   ]
  },
  {
   "cell_type": "markdown",
   "metadata": {},
   "source": [
    "####  Solution 1 (Digital scale):\n",
    "\n",
    "Each stack is assigned a unique number as its identifier, which determines the number of ingots taken from that stack to be weighed on the scale. Thus, the number of ingots on the scale is $1+2+3+...+24=\\frac{24\\cdot25}{2}=300$. If all ingots weighed 100 g, then the total weight would be 30,000 g. However as one of as one of the piles contain ingots off by 1 g, then identifier of that stack can be determined by equation $\\text{id}_{stack}=30{,}000-W$.\n",
    "\n",
    "Using this method **only 1 weighing** is needed."
   ]
  },
  {
   "cell_type": "markdown",
   "metadata": {},
   "source": [
    "####  Solution 2 (Weighing scale):\n",
    "\n",
    "Each stack is assigned a unique number as its identifier, and one ingot is sampled and marked from each stack. This results in a total of 24 ingots, which are then divided into three groups (Group 1, Group 2, and Group 3). The first weighing is done with Group 1 and Group 2. If the scale is balanced, the lighter ingot is in Group 3; otherwise, it is in the lighter group. The group containing the lighter ingot is then split into subgroups: two groups of three ingots each, and one group of two ingots. These groups are weighed again, and if they are balanced, the group with two ingots contains the lighter one. Otherwise, the lighter ingot will be on the lighter side. The third and final weighing identifies the exact ingot, and consequently the stack. If there are two ingots, the lighter one is easy to determine. If there are three ingots, two are weighed; if they are balanced, the third ingot is the lighter one. If they are unbalanced, the lighter ingot is on the lighter side.\n",
    "\n",
    "Using this method **only 3 weighings** are needed."
   ]
  },
  {
   "cell_type": "markdown",
   "metadata": {},
   "source": [
    "## Task 2."
   ]
  },
  {
   "cell_type": "markdown",
   "metadata": {},
   "source": [
    "#### Solution 1 (Digital scale)"
   ]
  },
  {
   "cell_type": "markdown",
   "metadata": {},
   "source": [
    "#### Solution 2 (Weighing scale)"
   ]
  }
 ],
 "metadata": {
  "language_info": {
   "name": "python"
  }
 },
 "nbformat": 4,
 "nbformat_minor": 2
}
